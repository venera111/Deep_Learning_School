{
  "cells": [
    {
      "cell_type": "markdown",
      "metadata": {
        "id": "KxIquH6GK7kt"
      },
      "source": [
        "<p style=\"align: center;\"><img align=center src=\"https://s8.hostingkartinok.com/uploads/images/2018/08/308b49fcfbc619d629fe4604bceb67ac.jpg\" width=500 height=450/></p>\n",
        "\n",
        "\n",
        "<h3 style=\"text-align: center;\"><b>Школа глубокого обучения ФПМИ МФТИ, осень 2021</b></h3>\n",
        "\n",
        "## Домашнее задание: библиотека Numpy и линейная алгебра\n"
      ]
    },
    {
      "cell_type": "code",
      "execution_count": 1,
      "metadata": {
        "id": "YEJ8DQ4QK7kx"
      },
      "outputs": [],
      "source": [
        "import numpy as np\n",
        "import random\n",
        "import scipy.stats as sps"
      ]
    },
    {
      "cell_type": "markdown",
      "metadata": {
        "id": "hYXhVX0eK7k2"
      },
      "source": [
        "### Задание 1\n",
        "В первой задаче вам предлагается перемножить две квадратные матрицы двумя способами -- без использования пакета ***numpy*** и с ним."
      ]
    },
    {
      "cell_type": "code",
      "execution_count": 2,
      "metadata": {
        "colab": {
          "base_uri": "https://localhost:8080/"
        },
        "id": "zJR8EANzK7k3",
        "outputId": "2f85a0d3-be9d-411b-c35f-09590130f3c9"
      },
      "outputs": [],
      "source": [
        "# Для генерации матриц используем функцию random -- она используется для генерации случайных объектов \n",
        "# функция sample создает случайную выборку. В качестве аргумента ей передается кортеж (i,j),  \n",
        "# здесь i -- число строк, j -- число столбцов.\n",
        "# a = np.random.sample((100, 100))\n",
        "# b = np.random.sample((100, 100))\n",
        "\n",
        "# Выведите размерность (ранг) каждой матрицы с помощью функции ndim.\n",
        "# Используйте функцию shape, что она вывела?\n",
        "# print(a.ndim, a.shape)\n",
        "# print(b.ndim, b.shape)\n",
        "# print(a)\n",
        "# print(b)"
      ]
    },
    {
      "cell_type": "code",
      "execution_count": 3,
      "metadata": {},
      "outputs": [],
      "source": [
        "M,N = 100,100\n",
        "matrix_a = [[random.random() for y in range(M)] for x in range(N)]\n",
        "matrix_b = [[random.random() for y in range(M)] for x in range(N)]"
      ]
    },
    {
      "cell_type": "code",
      "execution_count": 4,
      "metadata": {
        "id": "bkWCI4TPK7k8"
      },
      "outputs": [],
      "source": [
        "def mult(a, b):\n",
        "\t\"\"\"  \n",
        "\ta: list of \"size\" lists, each contains \"size\" floats --- первая матрица-аргумент\n",
        "\tb: list of \"size\" lists, each contains \"size\" floats --- вторая матрица-аргумент\n",
        "\treturn c: list of \"size\" lists, each contains \"size\" floats --- матрица, являющаяся результатом умножения матриц a и b\n",
        "\n",
        "\tФункция принимает на вход две матрицы: a и b размерностью size x size\n",
        "\tВозвращает матрицу их произведения a * b = c \n",
        "\n",
        "\tРеализуйте умножение матриц без использования функций из пакета numpy\n",
        "\t\"\"\"\n",
        "\trows_A = len(a)\n",
        "\tcols_A = len(a[0])\n",
        "\tcols_B = len(b[0])\n",
        "\tC = [[0 for row in range(cols_B)] for col in range(rows_A)]\n",
        "\tfor i in range(rows_A):\n",
        "\t\tfor j in range(cols_B):\n",
        "\t\t\tfor k in range(cols_A):\n",
        "\t\t\t\tC[i][j] += a[i][k] * b[k][j]\n",
        "\treturn C"
      ]
    },
    {
      "cell_type": "code",
      "execution_count": 5,
      "metadata": {
        "id": "IIgYD1W5K7lB"
      },
      "outputs": [],
      "source": [
        "def np_mult(a, b):\n",
        "\t\"\"\"  \n",
        "\ta: np.array[size, size]             --- первая матрица-аргумент\n",
        "\tb: np.array[size, size] --- вторая матрица-аргумент\n",
        "\treturn c: np.array[size, size]       --- матрица, являющаяся результатом умножения матриц a и b\n",
        "\n",
        "\tФункция принимает на вход две матрицы: a и b размерностью size x size\n",
        "\tВозвращает матрицу их произведения a * b = c \n",
        "\n",
        "\tРеализуйте умножение матриц, используя функции из пакета numpy\n",
        "\t\"\"\"\n",
        "\tc = a.dot(b) # a @ b\n",
        "\treturn c"
      ]
    },
    {
      "cell_type": "code",
      "execution_count": 6,
      "metadata": {
        "id": "tktkYzUHK7lE"
      },
      "outputs": [
        {
          "name": "stdout",
          "output_type": "stream",
          "text": [
            "CPU times: user 89.7 ms, sys: 1.08 ms, total: 90.7 ms\n",
            "Wall time: 90 ms\n"
          ]
        },
        {
          "data": {
            "text/plain": [
              "100"
            ]
          },
          "execution_count": 6,
          "metadata": {},
          "output_type": "execute_result"
        }
      ],
      "source": [
        "%%time\n",
        "# засечем время работы функции без NumPy\n",
        "M1 = mult(matrix_a, matrix_b)\n",
        "len(M1)"
      ]
    },
    {
      "cell_type": "code",
      "execution_count": 7,
      "metadata": {},
      "outputs": [],
      "source": [
        "a = np.array(matrix_a)\n",
        "b = np.array(matrix_b)"
      ]
    },
    {
      "cell_type": "code",
      "execution_count": 8,
      "metadata": {
        "id": "TmD0adgHK7lK"
      },
      "outputs": [
        {
          "name": "stdout",
          "output_type": "stream",
          "text": [
            "CPU times: user 50.2 ms, sys: 38.5 ms, total: 88.7 ms\n",
            "Wall time: 14.6 ms\n"
          ]
        },
        {
          "data": {
            "text/plain": [
              "(100, 100)"
            ]
          },
          "execution_count": 8,
          "metadata": {},
          "output_type": "execute_result"
        }
      ],
      "source": [
        "%%time\n",
        "# засечем время работы функции с NumPy\n",
        "M2 = np_mult(a, b)\n",
        "M2.shape"
      ]
    },
    {
      "cell_type": "code",
      "execution_count": 9,
      "metadata": {
        "id": "oftqyANQK7lS"
      },
      "outputs": [],
      "source": [
        "# проверим корректность\n",
        "assert np.allclose(np.array(M1), M2)"
      ]
    },
    {
      "cell_type": "markdown",
      "metadata": {
        "id": "2itTyTlcaHAu"
      },
      "source": [
        "### Задание 2"
      ]
    },
    {
      "cell_type": "markdown",
      "metadata": {
        "id": "BCemQSq-aEbO"
      },
      "source": [
        "Вам подаются на вход два вектора `a` и `b` в трехмерном пространстве. Заполните их случайными числами. Реализуйте их скалярное произведение с помощью  `NumPy` и без. Засеките время работы, как это показано в заданиях выше."
      ]
    },
    {
      "cell_type": "code",
      "execution_count": 10,
      "metadata": {
        "colab": {
          "base_uri": "https://localhost:8080/"
        },
        "id": "lWhr_gPSZ9o_",
        "outputId": "78800ae7-d578-4649-c233-0d3d72239185"
      },
      "outputs": [],
      "source": [
        "# a = np.random.sample((1, 3))\n",
        "# a = list(a)[0]\n",
        "# b = np.random.sample((1, 3))\n",
        "# b = list(b)[0]\n",
        "# print(a, b)"
      ]
    },
    {
      "cell_type": "code",
      "execution_count": 11,
      "metadata": {},
      "outputs": [],
      "source": [
        "a = [random.random() for y in range(3)]\n",
        "b = [random.random() for y in range(3)]"
      ]
    },
    {
      "cell_type": "code",
      "execution_count": 12,
      "metadata": {
        "id": "GjlkcHIWZ_ae"
      },
      "outputs": [],
      "source": [
        "def scalar_product(a, b):\n",
        "\t\"\"\"  \n",
        "\ta: lists of 3 ints --- первая матрица-аргумент длиной n\n",
        "\tb: lists of 3 ints --- вторая матрица-аргумент длиной n\n",
        "\treturn c: float  --- результат скалярного произведения векторов a и b\n",
        "\n",
        "\tФункция принимает на вход два вектора длиной n\n",
        "\tВозвращает число, равное их скалярному произведению a x b = c \n",
        "\n",
        "\tРеализуйте скалярное умножение векторов, не используя функции из пакета numpy\n",
        "\n",
        "\t\"\"\" \n",
        "\tresult = sum([i * j for i, j in zip(a, b)])\n",
        "\treturn result"
      ]
    },
    {
      "cell_type": "code",
      "execution_count": 13,
      "metadata": {
        "id": "C2M-OAp5Z_6a"
      },
      "outputs": [],
      "source": [
        "def np_scalar_product(a,b):\n",
        "\t\"\"\"  \n",
        "\ta: np.array[, n] --- первая матрица-аргумент\n",
        "\tb: np.array[, n] --- вторая матрица-аргумент\n",
        "\treturn c: float  --- результат скалярного произведения векторов a и b\n",
        "\n",
        "\tФункция принимает на вход два вектора длиной n\n",
        "\tВозвращает число, равное их скалярному произведению a x b = c \n",
        "\n",
        "\tРеализуйте скалярное умножение векторов, используя функции из пакета numpy\n",
        "\t\"\"\" \n",
        "\tresult = np.sum(a @ b)\n",
        "\treturn result"
      ]
    },
    {
      "cell_type": "code",
      "execution_count": 14,
      "metadata": {},
      "outputs": [
        {
          "name": "stdout",
          "output_type": "stream",
          "text": [
            "CPU times: user 1 µs, sys: 0 ns, total: 1 µs\n",
            "Wall time: 1.91 µs\n"
          ]
        }
      ],
      "source": [
        "%time\n",
        "product_1 = scalar_product(a,b)"
      ]
    },
    {
      "cell_type": "code",
      "execution_count": 15,
      "metadata": {},
      "outputs": [],
      "source": [
        "a = np.array(a)\n",
        "b = np.array(b)"
      ]
    },
    {
      "cell_type": "code",
      "execution_count": 16,
      "metadata": {
        "id": "BOQfYf-2aCQJ",
        "scrolled": true
      },
      "outputs": [
        {
          "name": "stdout",
          "output_type": "stream",
          "text": [
            "CPU times: user 1 µs, sys: 0 ns, total: 1 µs\n",
            "Wall time: 3.1 µs\n"
          ]
        }
      ],
      "source": [
        "%time\n",
        "product_2 = np_scalar_product(a,b)\n",
        "\n",
        "# проверим корректность:\n",
        "assert np.allclose(product_1, product_2)"
      ]
    },
    {
      "cell_type": "markdown",
      "metadata": {
        "id": "NHaHu6q1K7mH"
      },
      "source": [
        "Почему методы ***numpy*** оказываются эффективнее? Что вы можете сказать о скорости вычислений в NumPy?"
      ]
    },
    {
      "cell_type": "markdown",
      "metadata": {
        "id": "PqsTAb1M7TTQ"
      },
      "source": [
        "------------------"
      ]
    },
    {
      "cell_type": "markdown",
      "metadata": {
        "id": "_A3p2s4eK7mI"
      },
      "source": [
        "**Ответ:** Скорость вычислений вектоных и матричных операций в NumPy сильно превосходит скорость вычислений без него, по большей части потому, что функции numpy работаю с массивами данных одного типа (числовыми), это позволяет реализовать встроенные функции numpy на C/C++, что, конечно, делает numpy быстрее (функции, которые вызывает Numpy для работы с числовыми данными, сильно оптимизированы именно под эти задачи, а сам Python просто гоняет интерпретатор по циклу в таких операциях, что является чуть ли не самым большим замедлением в работе интерпретатора)."
      ]
    },
    {
      "cell_type": "markdown",
      "metadata": {
        "id": "mJXeUuznK7lm"
      },
      "source": [
        "### Задание 3\n",
        "Напишите функцию, которая находим сумму четных диагональныех элементов квадратной матрицы. Если таких элементов нет, то вывести `0`. Используйте библиотеку Numpy"
      ]
    },
    {
      "cell_type": "code",
      "execution_count": 17,
      "metadata": {},
      "outputs": [
        {
          "name": "stdout",
          "output_type": "stream",
          "text": [
            "[[ 3  0  0  0]\n",
            " [ 0  6  0  0]\n",
            " [ 0  0  9  0]\n",
            " [ 0  0  0 12]]\n"
          ]
        }
      ],
      "source": [
        "matr = np.diag(np.arange(3, 15, 3))\n",
        "print(matr)"
      ]
    },
    {
      "cell_type": "code",
      "execution_count": 18,
      "metadata": {},
      "outputs": [
        {
          "data": {
            "text/plain": [
              "18"
            ]
          },
          "execution_count": 18,
          "metadata": {},
          "output_type": "execute_result"
        }
      ],
      "source": [
        "diag = np.diagonal(matr, offset=0, axis1=0, axis2=1)\n",
        "sum(diag[diag % 2 == 0])"
      ]
    },
    {
      "cell_type": "code",
      "execution_count": 19,
      "metadata": {
        "id": "qYNiKbK47TTS"
      },
      "outputs": [],
      "source": [
        "def np_diag_2k(a):\n",
        "\t\"\"\"  \n",
        "\ta: np.array[m, m] --- первая матрица-аргумент\n",
        "\treturn c: float   --- сумма элементов массива а, принадлежащих диагонали и являющимися четными\n",
        "\n",
        "\tФункция принимает на вход квадратную матрицу размерностью m x m и возвращает число,\n",
        "\tравное сумме четных диагональных элементов этой квадратной матрицы\n",
        "\n",
        "\tВ реализации этой функции необходимо использовать функционал пакета numpy\n",
        "\n",
        "\t\"\"\" \n",
        "\tdiag = np.diagonal(a, offset=0, axis1=0, axis2=1)\n",
        "\tresult = sum(diag[diag % 2 == 0])\n",
        "\treturn result"
      ]
    },
    {
      "cell_type": "code",
      "execution_count": 20,
      "metadata": {
        "id": "BdInn8_j7TTU"
      },
      "outputs": [
        {
          "data": {
            "text/plain": [
              "array([[3, 1, 7, 3, 5],\n",
              "       [2, 1, 1, 2, 1],\n",
              "       [2, 1, 5, 1, 6],\n",
              "       [3, 1, 9, 3, 5],\n",
              "       [7, 8, 9, 8, 7]])"
            ]
          },
          "execution_count": 20,
          "metadata": {},
          "output_type": "execute_result"
        }
      ],
      "source": [
        "# зададим некоторую квадратную матрицу\n",
        "a = np.random.randint(1, 10, size=(5, 5))\n",
        "a"
      ]
    },
    {
      "cell_type": "code",
      "execution_count": 21,
      "metadata": {
        "id": "ZR97Nt9N7TTW"
      },
      "outputs": [
        {
          "name": "stdout",
          "output_type": "stream",
          "text": [
            "CPU times: user 32 µs, sys: 1 µs, total: 33 µs\n",
            "Wall time: 33.1 µs\n"
          ]
        },
        {
          "data": {
            "text/plain": [
              "0"
            ]
          },
          "execution_count": 21,
          "metadata": {},
          "output_type": "execute_result"
        }
      ],
      "source": [
        "%%time\n",
        "# засечем время работы функции с NumPy\n",
        "np_diag_2k(a)"
      ]
    },
    {
      "cell_type": "markdown",
      "metadata": {
        "id": "cdcRkFzQ7TTY"
      },
      "source": [
        "### Задание 4\n",
        "​\n",
        "На вход дан двумерный массив $X$. Напишите функцию, которая для каждой строчки $(x = (x_1, x_2, \\ldots, x_n)$ массива $X$ строит строчку $s = (s_1, s_2, \\ldots, s_n)$,  где $s_k=x_1+...+x_k$, а затем выдаёт массив из построенных строчек. Используйте библиотеку <code>numpy</code> (вам поможет функция <code>cumsum</code>). Выходом функции должен быть двумерный <code>numpy</code>-массив той же формы, что и $X$.\n",
        "​ "
      ]
    },
    {
      "cell_type": "code",
      "execution_count": 22,
      "metadata": {
        "id": "REgL39ksK7lr"
      },
      "outputs": [],
      "source": [
        "def cumsum(A):\n",
        "    \"\"\"  \n",
        "    A: np.array[num_row, num_column]        --- матрица-аргумент\n",
        "    return S: np.array[num_row, num_column] --- выходная матрица кумулятивных сумм\n",
        "\n",
        "    Функция принимает на вход матрицу A размерностью n x m и возвращает \n",
        "    матрицу с той же размерностью n x m, i-ая строчка которой есть последовательность \n",
        "    кумулятивных сумм элементов i-ой строки матрицы A\n",
        "\n",
        "    В реализации этой функции необходимо использовать функционал пакета numpy\n",
        "\n",
        "    \"\"\" \n",
        "    result = np.cumsum(A,axis=1) \n",
        "    return result"
      ]
    },
    {
      "cell_type": "code",
      "execution_count": 23,
      "metadata": {
        "id": "HcVN8MagK7lw"
      },
      "outputs": [
        {
          "name": "stdout",
          "output_type": "stream",
          "text": [
            "CPU times: user 0 ns, sys: 1e+03 ns, total: 1e+03 ns\n",
            "Wall time: 2.15 µs\n"
          ]
        }
      ],
      "source": [
        "# зададим некоторую последовательность и проверим ее на вашей функции. \n",
        "A = sps.uniform.rvs(size=10**3).reshape(10,100)\n",
        "\n",
        "%time\n",
        "S2 = cumsum(A)"
      ]
    },
    {
      "cell_type": "markdown",
      "metadata": {
        "id": "teVCPWZmK7l5"
      },
      "source": [
        "### Задание 5\n",
        "\n",
        "​\n",
        "Задан двумерный массив $X$. Для каждой строчки массива X необходимо сделать следующее преобразование.\n",
        "\n",
        "Пусть дана строчка x. Необходимо построить новый массив, где все элементы с нечетными индексами требуется заменить на число a (значение по умолчанию a=1). Все элементы с четными индексами нужно возвести в куб. Затем записать элементы в обратном порядке относительно их позиций. В конце требуется слить массив x с преобразованным x и вывести.\n",
        "\n",
        "Напишите функцию, которая выполняет данное преобразование для каждой строчки двумерного массива X. Массив X при этом должен остаться без изменений.\n",
        "\n",
        "Используйте библиотеку numpy.\n",
        "\n",
        "Пример:\n",
        "$X = [[100,200,300,400,500]]$ -> $[[100,a,300,a,500]]$ -> $[[500^3,a,300^3,a,100^3]]$ -> склеиваем -> $[[100,200,300,400,500,500^3,a,300^3,a,100^3]]$\n",
        "\n",
        "​"
      ]
    },
    {
      "cell_type": "code",
      "execution_count": 24,
      "metadata": {},
      "outputs": [
        {
          "data": {
            "text/plain": [
              "array([[48,  9, 40, 60, 98, 74],\n",
              "       [12, 12, 96, 50,  3, 25],\n",
              "       [31, 82, 29, 75, 42, 28]])"
            ]
          },
          "execution_count": 24,
          "metadata": {},
          "output_type": "execute_result"
        }
      ],
      "source": [
        "rng = np.random.default_rng()\n",
        "X = rng.integers(100, size=(3, 6))\n",
        "X"
      ]
    },
    {
      "cell_type": "code",
      "execution_count": 25,
      "metadata": {
        "id": "0hmcvfDVK7l-"
      },
      "outputs": [],
      "source": [
        "from copy import copy\n",
        "def np_transformation(X, a=1):\n",
        "\t\"\"\"  \n",
        "\tX: np.array[num_row, num_column]          --- матрица-аргумент\n",
        "\ta: float                                  --- значение для преобразования нечетных элементов строк в X\n",
        "\treturn S: np.array[num_row, num_column*2] --- матрица, где строки являются \n",
        "\tсконкатенированными строками изначальной матрицы X со строками, являющимися их преобразованиями\n",
        "\n",
        "\tФункция принимает на вход матрицу X размерностью n x m, число a и \n",
        "\tвозвращает  матрицу с размерностью n x m*2, i-ая строчка которой является склеенной\n",
        "\ti-ой строкой X с ее преобразованием ее строки transformation(X[i]), записанном в обратном порядке, \n",
        "\tгде преобразование для числа k определено как:\n",
        "\ttransformation(k) = a if ind(k) % 2 == 0 else k**3\n",
        "\n",
        "\tВ реализации этой функции необходимо использовать функционал пакета numpy\n",
        "\n",
        "\t\"\"\" \n",
        "\tarr = X.copy()\n",
        "\tarr[:, 1::2] = a\n",
        "\tarr[:, 0::2] = arr[:, 0::2]**3\n",
        "\tarr = arr[:, ::-1]\n",
        "\tresult = np.hstack((X,arr))\n",
        "\treturn result"
      ]
    },
    {
      "cell_type": "code",
      "execution_count": 26,
      "metadata": {
        "id": "r2-JLMhxK7mE",
        "scrolled": true
      },
      "outputs": [
        {
          "name": "stdout",
          "output_type": "stream",
          "text": [
            "X: [[1 3 5 7 9]]\n",
            "CPU times: user 32 µs, sys: 6 µs, total: 38 µs\n",
            "Wall time: 36 µs\n"
          ]
        }
      ],
      "source": [
        "X = np.array([[i for i in range(1, 10, 2)]])\n",
        "print(\"X:\", X)\n",
        "%time S2 = np_transformation(X, 5)"
      ]
    },
    {
      "cell_type": "markdown",
      "metadata": {
        "id": "qa521fce7TTk"
      },
      "source": [
        "### Задание 6\n",
        "Написать функцию для кодирование массива (Run-length encoding). Все подряд идущие повторения элементов функция сжимает в один элемент и считает количество повторений этого элемента. Функция возвращает кортеж из двух векторов одинаковой длины. Первый содержит элементы, а второй — сколько раз их нужно повторить. \n",
        "\n",
        "Пример: encode(np.array([1, 2, 2, 3, 3, 1, 1, 5, 5, 2, 3, 3])) = (np.array[1, 2, 3, 1, 5, 2, 3]), np.array[1, 2, 2, 2, 2, 1, 2])"
      ]
    },
    {
      "cell_type": "code",
      "execution_count": 33,
      "metadata": {
        "id": "4wD7OSVv7TTl"
      },
      "outputs": [],
      "source": [
        "def np_encode(a):\n",
        "    \"\"\"  \n",
        "    a: np.array[, n] --- вектор-аргумент длиной n\n",
        "    return (elems, repetitions): (np.array, np.array) --- выходной кортеж из вектора \n",
        "    элементов и вектора их количеств в подряд идущих повторениях\n",
        "\n",
        "    Функция принимает на вход вектор a длиной n, добавляет в вектор elem сжатые \n",
        "    в один элемент подряд идущие повторения элементов входного вектора a, в вектор \n",
        "    repetitions добавляет длины последовательностей подряд идущих повторений. \n",
        "    Затем функция возвращает кортеж векторов (elems, repetitions).\n",
        "\n",
        "    В реализации этой функции необходимо использовать функционал пакета numpy\n",
        "\n",
        "    \"\"\" \n",
        "    n = len(a)\n",
        "    y = a[1:] != a[:-1]\n",
        "    i = np.append(np.where(y), n - 1)\n",
        "    z = np.diff(np.append(-1, i))\n",
        "    return a[i], z"
      ]
    },
    {
      "cell_type": "code",
      "execution_count": 34,
      "metadata": {
        "id": "P7YxojET7TTn"
      },
      "outputs": [],
      "source": [
        "X = np.array([1, 2, 2, 3, 3, 1, 1, 5, 5, 2, 3, 3])"
      ]
    },
    {
      "cell_type": "code",
      "execution_count": 35,
      "metadata": {},
      "outputs": [
        {
          "name": "stdout",
          "output_type": "stream",
          "text": [
            "CPU times: user 1e+03 ns, sys: 1e+03 ns, total: 2 µs\n",
            "Wall time: 1.67 µs\n"
          ]
        }
      ],
      "source": [
        "%time\n",
        "x, num = np_encode(X)"
      ]
    },
    {
      "cell_type": "code",
      "execution_count": 36,
      "metadata": {},
      "outputs": [
        {
          "name": "stdout",
          "output_type": "stream",
          "text": [
            "CPU times: user 1 µs, sys: 1e+03 ns, total: 2 µs\n",
            "Wall time: 2.86 µs\n"
          ]
        }
      ],
      "source": [
        "def encode(a):\n",
        "    #YOUR CODE\n",
        "\n",
        "    Anew=np.array(list(a[-1:])+list(a[:-1]))\n",
        "    elts = a[Anew != a]\n",
        "    nonzero = np.nonzero(Anew != a)[0]\n",
        "    repeats = np.diff(np.append(nonzero,a.size))\n",
        "    return (elts,repeats)\n",
        "%time\n",
        "x, num = encode(X)"
      ]
    },
    {
      "cell_type": "code",
      "execution_count": null,
      "metadata": {},
      "outputs": [],
      "source": []
    }
  ],
  "metadata": {
    "colab": {
      "collapsed_sections": [],
      "name": "[homework]numpy.ipynb",
      "provenance": []
    },
    "kernelspec": {
      "display_name": "Python 3",
      "language": "python",
      "name": "python3"
    },
    "language_info": {
      "codemirror_mode": {
        "name": "ipython",
        "version": 3
      },
      "file_extension": ".py",
      "mimetype": "text/x-python",
      "name": "python",
      "nbconvert_exporter": "python",
      "pygments_lexer": "ipython3",
      "version": "3.9.10"
    }
  },
  "nbformat": 4,
  "nbformat_minor": 0
}
